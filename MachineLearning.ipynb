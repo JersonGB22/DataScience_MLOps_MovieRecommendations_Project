{
 "cells": [
  {
   "attachments": {},
   "cell_type": "markdown",
   "metadata": {},
   "source": [
    "## Machine Learning"
   ]
  },
  {
   "attachments": {},
   "cell_type": "markdown",
   "metadata": {},
   "source": [
    "### Importación de las librerías necesarias"
   ]
  },
  {
   "cell_type": "code",
   "execution_count": 2,
   "metadata": {},
   "outputs": [],
   "source": [
    "import pandas as pd\n",
    "from sklearn.feature_extraction.text import CountVectorizer\n",
    "from sklearn.metrics.pairwise import cosine_similarity"
   ]
  },
  {
   "attachments": {},
   "cell_type": "markdown",
   "metadata": {},
   "source": [
    "Se utilizarán las librerías sklearn.feature_extraction.text y sklearn.metrics.pairwise para implementar un sistema de recomendación basado en filtrado de contenido en el que se compararán las similitudes entre diferentes elementos de un conjunto de datos. La librería CountVectorizer se utilizará para convertir los datos de texto en una matriz numérica, mientras que cosine_similarity se utilizará para calcular la similitud coseno entre los elementos de la matriz. Esto permitirá generar recomendaciones personalizadas basadas en los patrones de similitud de los datos de entrada."
   ]
  },
  {
   "attachments": {},
   "cell_type": "markdown",
   "metadata": {},
   "source": [
    "### Carga de datos"
   ]
  },
  {
   "cell_type": "code",
   "execution_count": 3,
   "metadata": {},
   "outputs": [
    {
     "data": {
      "text/html": [
       "<div>\n",
       "<style scoped>\n",
       "    .dataframe tbody tr th:only-of-type {\n",
       "        vertical-align: middle;\n",
       "    }\n",
       "\n",
       "    .dataframe tbody tr th {\n",
       "        vertical-align: top;\n",
       "    }\n",
       "\n",
       "    .dataframe thead th {\n",
       "        text-align: right;\n",
       "    }\n",
       "</style>\n",
       "<table border=\"1\" class=\"dataframe\">\n",
       "  <thead>\n",
       "    <tr style=\"text-align: right;\">\n",
       "      <th></th>\n",
       "      <th>title</th>\n",
       "      <th>label</th>\n",
       "    </tr>\n",
       "  </thead>\n",
       "  <tbody>\n",
       "    <tr>\n",
       "      <th>0</th>\n",
       "      <td>toy story</td>\n",
       "      <td>toy stori anim comedi famili tom hank tim alle...</td>\n",
       "    </tr>\n",
       "    <tr>\n",
       "      <th>1</th>\n",
       "      <td>jumanji</td>\n",
       "      <td>jumanji adventur fantasi famili robin william ...</td>\n",
       "    </tr>\n",
       "    <tr>\n",
       "      <th>2</th>\n",
       "      <td>grumpier old men</td>\n",
       "      <td>grumpier old men romanc comedi walter matthau ...</td>\n",
       "    </tr>\n",
       "    <tr>\n",
       "      <th>3</th>\n",
       "      <td>waiting to exhale</td>\n",
       "      <td>wait exhal comedi drama romanc whitney houston...</td>\n",
       "    </tr>\n",
       "    <tr>\n",
       "      <th>4</th>\n",
       "      <td>father of the bride part ii</td>\n",
       "      <td>father bride part ii comedi steve martin dian ...</td>\n",
       "    </tr>\n",
       "    <tr>\n",
       "      <th>...</th>\n",
       "      <td>...</td>\n",
       "      <td>...</td>\n",
       "    </tr>\n",
       "    <tr>\n",
       "      <th>21803</th>\n",
       "      <td>the sublet</td>\n",
       "      <td>sublet mysteri drama thriller horror tianna no...</td>\n",
       "    </tr>\n",
       "    <tr>\n",
       "      <th>21804</th>\n",
       "      <td>cadet kelly</td>\n",
       "      <td>cadet kelli comedi hilari duff christi carlson...</td>\n",
       "    </tr>\n",
       "    <tr>\n",
       "      <th>21805</th>\n",
       "      <td>pooh's heffalump halloween movie</td>\n",
       "      <td>pooh heffalump halloween movi anim famili jimm...</td>\n",
       "    </tr>\n",
       "    <tr>\n",
       "      <th>21806</th>\n",
       "      <td>mom</td>\n",
       "      <td>mom crime drama thriller sridevi kapoor sajal ...</td>\n",
       "    </tr>\n",
       "    <tr>\n",
       "      <th>21807</th>\n",
       "      <td>robin hood</td>\n",
       "      <td>robin hood drama action romanc patrick bergin ...</td>\n",
       "    </tr>\n",
       "  </tbody>\n",
       "</table>\n",
       "<p>21808 rows × 2 columns</p>\n",
       "</div>"
      ],
      "text/plain": [
       "                                  title  \\\n",
       "0                             toy story   \n",
       "1                               jumanji   \n",
       "2                      grumpier old men   \n",
       "3                     waiting to exhale   \n",
       "4           father of the bride part ii   \n",
       "...                                 ...   \n",
       "21803                        the sublet   \n",
       "21804                       cadet kelly   \n",
       "21805  pooh's heffalump halloween movie   \n",
       "21806                               mom   \n",
       "21807                        robin hood   \n",
       "\n",
       "                                                   label  \n",
       "0      toy stori anim comedi famili tom hank tim alle...  \n",
       "1      jumanji adventur fantasi famili robin william ...  \n",
       "2      grumpier old men romanc comedi walter matthau ...  \n",
       "3      wait exhal comedi drama romanc whitney houston...  \n",
       "4      father bride part ii comedi steve martin dian ...  \n",
       "...                                                  ...  \n",
       "21803  sublet mysteri drama thriller horror tianna no...  \n",
       "21804  cadet kelli comedi hilari duff christi carlson...  \n",
       "21805  pooh heffalump halloween movi anim famili jimm...  \n",
       "21806  mom crime drama thriller sridevi kapoor sajal ...  \n",
       "21807  robin hood drama action romanc patrick bergin ...  \n",
       "\n",
       "[21808 rows x 2 columns]"
      ]
     },
     "execution_count": 3,
     "metadata": {},
     "output_type": "execute_result"
    }
   ],
   "source": [
    "df=pd.read_csv(r\"https://raw.githubusercontent.com/JersonGB22/ProyectoIndividual1_MLOps_Henry/main/Datasets/ML_movie_transformation.csv\")\n",
    "df"
   ]
  },
  {
   "attachments": {},
   "cell_type": "markdown",
   "metadata": {},
   "source": [
    "### Matriz de Caracaterísticas"
   ]
  },
  {
   "cell_type": "code",
   "execution_count": 4,
   "metadata": {},
   "outputs": [
    {
     "name": "stdout",
     "output_type": "stream",
     "text": [
      "Número de Palabras:  686\n"
     ]
    },
    {
     "data": {
      "text/plain": [
       "\"around world eighti day adventur comedi famili fantasi romanc david niven cantinfla finlay curri robert morley charl boyer robert newton gilbert roland marlen dietrich frank sinatra buster keaton john carradin peter lorr georg raft tim mccoy joe e. brown shirley maclain melvil cooper reginald denni ronald colman trevor howard harcourt william martin carol cedric hardwick noël coward john gielgud fernandel evelyn key josé greco cesar romero alan mowbray charl coburn red skelton andi devin edmund low victor mclaglen john mill glyni john hermion gingold edward r. murrow mike mazurki ronald squir basil sydney lui miguel dominguín robert cabal jack oaki beatric lilli a.e. matthew walter fitzgerald ronald adam frank royd abdullah abba jess adam fred aldrich ray armstrong gertrud astor walter bacon rama bai leah baird brandon beach eugen beday helena benda audrey betz georg blagoi eumenio blanco nina borget danni borzag hazel boyn georg bruggeman bob burrow paul busch gordon carveth spencer chan jack chefe sing chen dick cherney bud coke louis colombet bill couch paul cristo roy damron eddi da john davidson jack davi jack davi anna de linski gloria dea john deauvil harri denni jame dime joe dougherti dan dowl harri duff arthur dulac charl dunbar renald dupont larri duran minta durfe jack elli richard elmor frank erickson bob evan harri evan franklyn farnum art felix grace field sam finn bess flower franc fong franc fong otto forrest helen foster jesú franco ben frommer curt furburg joe garcio joe gilbert mari ellen gleason june glori albert godderi jame gonzalez carmelita gonzález dick gordon berni gozier william graeff jr. herschel graham donald gray kit guard paul gustin herman hack robert hain stuart hall chick hannan silver harr sam harri clarenc henneck lar hensen georg hickman chuck hick stuart holm han hopf jimmi horan yoneo iguchi allen jaff robert jame dolli jarvi michael jeffer leroy johnson dick johnston harvey karel willi keeler jack kenni al kikum max kleven paul kruger ann kund jeann lafayett richard lamarr alfredo landa jack lee virginia ann lee harri leroy carl m. levi shirley lew tien-lang li baron jame lichter marco lópez casey macgregor joseph marievski johnni marlin thoma martin frank mclure mari melesh harold miller gordon mitchel king mojav joe molina ernesto molinari ralph moratz clive morgan charl morton sol murgi frank nagai georg nardelli barri norton fay michael nuell daniel nunez william h. o'brien monti o'gradi lillian o'malley kent odel yasuzô ogawa bob okazaki victor paul charl pendelton elsa peterson joe ploski byron poindext lucil porcett don pulford bill raisch fred rapport bob reev max reid waclaw rekwart peggi remington david richardson buddi roosevelt georg ross joe e. ross marion ross toni roux john roy dick ryan loulett sablon danni sand cosmo sardo sam savitski jeffrey sayr charl schaeffer fred scheiwil eddi searl scott seaton bernard sell sammi shack lesli sketchley june smaney mabel smaney j. lewi smith charl soldani stephen soldi kalu k. sonkur hayward soo hoo walter soo hoo ray spiker robert st. angelo john starck norman stevan bert steven jack stoney ramón sánchez mike tellegen lillian ten eyck jack tornek arthur tovey michael trubshaw toni urchel sailor vincent salli yarnel william yokota mari young patrick cargil richard ahern frank baker john benson albert caven fred caven cecil comb ashley cowan roy darmour lesli denison carli elinor raoul freeman rudi german arthur gould-port cameron hall chuck hamilton roddi hugh joanna mari jone weaver levi fateh lohani joan lora manuel lópez william meader jack mulhal satini pualoa bill shine bhogwan singh cap somer philip van zandt carol white bob whitney al bain nobl chissel alphonso duboi philip ahn richard loo chet brandenburg martin cichi campbel cott felix felton frederick leister norman macowan adolph faylauer russel meeker duke fishman john georg al haskel tex holden charl horvath boyd 'red' morgan shep houghton walter kingsford key luke frank mill manuel parí jack perrin robert robinson edwin rochel phil schumach dick wessel zamba the lion suzann ridgeway winona smith michael anderson base famou book jule vern movi follow philea fogg journey around world complet within 80 day short period day michael todd compani unit state of america english español françai\""
      ]
     },
     "execution_count": 4,
     "metadata": {},
     "output_type": "execute_result"
    }
   ],
   "source": [
    "# Visualización del registro con mayor cantidad de palabras\n",
    "word=df.label.str.split().str.len()\n",
    "print(\"Número de Palabras: \",word.max())\n",
    "df.label.iloc[word.idxmax()]"
   ]
  },
  {
   "cell_type": "code",
   "execution_count": 5,
   "metadata": {},
   "outputs": [
    {
     "name": "stdout",
     "output_type": "stream",
     "text": [
      "Número de Palabras:  6\n"
     ]
    },
    {
     "data": {
      "text/plain": [
       "'food chain documentari sanjay rawal english'"
      ]
     },
     "execution_count": 5,
     "metadata": {},
     "output_type": "execute_result"
    }
   ],
   "source": [
    "# Visualización del registro con menor cantidad de palabras\n",
    "print(\"Número de Palabras: \",word.min())\n",
    "df.label.iloc[word.idxmin()]"
   ]
  },
  {
   "cell_type": "code",
   "execution_count": 6,
   "metadata": {},
   "outputs": [],
   "source": [
    "cv=CountVectorizer(max_features=1000,stop_words=\"english\")\n",
    "vector=cv.fit_transform(df.label).toarray()"
   ]
  },
  {
   "attachments": {},
   "cell_type": "markdown",
   "metadata": {},
   "source": [
    "* Al utilizar max_features=1000, estoy seleccionando un número cercano al doble del máximo de palabras presentes en mis registros, que es de 686. Esta elección me permite capturar un rango más amplio de palabras relevantes en mis datos sin agregar un exceso de características irrelevantes. Al limitar el número de características a 1000, puedo mantener un equilibrio entre la representatividad de las palabras seleccionadas y la eficiencia del modelo. Además, al eliminar las palabras comunes en inglés con stop_words=\"english\", estoy asegurando que las características restantes sean más significativas y relevantes para mi modelo, lo que puede mejorar la calidad de las predicciones y reducir el ruido en los resultados obtenidos."
   ]
  },
  {
   "cell_type": "code",
   "execution_count": 7,
   "metadata": {},
   "outputs": [
    {
     "name": "stdout",
     "output_type": "stream",
     "text": [
      "(21808, 1000)\n"
     ]
    },
    {
     "data": {
      "text/plain": [
       "array([[0, 0, 0, ..., 0, 0, 0],\n",
       "       [0, 0, 0, ..., 0, 0, 0],\n",
       "       [0, 0, 0, ..., 0, 0, 0],\n",
       "       ...,\n",
       "       [0, 0, 0, ..., 0, 0, 0],\n",
       "       [0, 0, 0, ..., 0, 0, 0],\n",
       "       [0, 0, 0, ..., 0, 0, 0]], dtype=int64)"
      ]
     },
     "execution_count": 7,
     "metadata": {},
     "output_type": "execute_result"
    }
   ],
   "source": [
    "# Visualizando el array vector\n",
    "print(vector.shape)\n",
    "vector"
   ]
  },
  {
   "attachments": {},
   "cell_type": "markdown",
   "metadata": {},
   "source": [
    "### Matriz de Similitud"
   ]
  },
  {
   "cell_type": "code",
   "execution_count": 8,
   "metadata": {},
   "outputs": [],
   "source": [
    "similarity_score=cosine_similarity(vector)"
   ]
  },
  {
   "cell_type": "code",
   "execution_count": 9,
   "metadata": {},
   "outputs": [
    {
     "name": "stdout",
     "output_type": "stream",
     "text": [
      "(21808, 21808)\n"
     ]
    },
    {
     "data": {
      "text/plain": [
       "array([[1.        , 0.12930164, 0.20890726, ..., 0.23745309, 0.02865341,\n",
       "        0.24770754],\n",
       "       [0.12930164, 1.        , 0.13055824, ..., 0.18212505, 0.10744306,\n",
       "        0.18999015],\n",
       "       [0.20890726, 0.13055824, 1.        , ..., 0.20343337, 0.03857584,\n",
       "        0.21221867],\n",
       "       ...,\n",
       "       [0.23745309, 0.18212505, 0.20343337, ..., 1.        , 0.0717496 ,\n",
       "        0.25374774],\n",
       "       [0.02865341, 0.10744306, 0.03857584, ..., 0.0717496 , 1.        ,\n",
       "        0.07484812],\n",
       "       [0.24770754, 0.18999015, 0.21221867, ..., 0.25374774, 0.07484812,\n",
       "        1.        ]])"
      ]
     },
     "execution_count": 9,
     "metadata": {},
     "output_type": "execute_result"
    }
   ],
   "source": [
    "# Visualizando el array similarity_score\n",
    "print(similarity_score.shape)\n",
    "similarity_score"
   ]
  },
  {
   "attachments": {},
   "cell_type": "markdown",
   "metadata": {},
   "source": [
    "* Crearemos una función que se utilizará para indexar las películas más similares a una película específica en el conjunto de datos. Dado un título de película, la función encuentra su índice correspondiente en el conjunto de datos y utiliza la matriz de similitud previamente calculada, para determinar los 5 elementos más similares a la película de referencia. La función devuelve una lista de índices correspondientes a las películas más similares en orden descendente, lo que permite utilizar esta información para hacer recomendaciones personalizadas en el endpoint 7 de la API de manera más rápida, eficiente y efectiva."
   ]
  },
  {
   "cell_type": "code",
   "execution_count": 10,
   "metadata": {},
   "outputs": [],
   "source": [
    "def index_movie(titulo:str):\n",
    "    index=df[df.title==titulo].index[0]\n",
    "    score=list(enumerate(similarity_score[index]))\n",
    "    score=sorted(score,key=lambda x: x[1],reverse=True)\n",
    "    # El índice 0 siempre corresponde a la misma película, por lo cual, no se considera\n",
    "    score=score[1:6]\n",
    "    return [i[0] for i in score]"
   ]
  },
  {
   "cell_type": "code",
   "execution_count": 11,
   "metadata": {},
   "outputs": [
    {
     "data": {
      "text/html": [
       "<div>\n",
       "<style scoped>\n",
       "    .dataframe tbody tr th:only-of-type {\n",
       "        vertical-align: middle;\n",
       "    }\n",
       "\n",
       "    .dataframe tbody tr th {\n",
       "        vertical-align: top;\n",
       "    }\n",
       "\n",
       "    .dataframe thead th {\n",
       "        text-align: right;\n",
       "    }\n",
       "</style>\n",
       "<table border=\"1\" class=\"dataframe\">\n",
       "  <thead>\n",
       "    <tr style=\"text-align: right;\">\n",
       "      <th></th>\n",
       "      <th>title</th>\n",
       "      <th>label</th>\n",
       "      <th>index_movie</th>\n",
       "    </tr>\n",
       "  </thead>\n",
       "  <tbody>\n",
       "    <tr>\n",
       "      <th>0</th>\n",
       "      <td>toy story</td>\n",
       "      <td>toy stori anim comedi famili tom hank tim alle...</td>\n",
       "      <td>[2285, 10998, 11507, 11250, 6278]</td>\n",
       "    </tr>\n",
       "    <tr>\n",
       "      <th>1</th>\n",
       "      <td>jumanji</td>\n",
       "      <td>jumanji adventur fantasi famili robin william ...</td>\n",
       "      <td>[10720, 13024, 7785, 20185, 1472]</td>\n",
       "    </tr>\n",
       "    <tr>\n",
       "      <th>2</th>\n",
       "      <td>grumpier old men</td>\n",
       "      <td>grumpier old men romanc comedi walter matthau ...</td>\n",
       "      <td>[2530, 19874, 9685, 3117, 3161]</td>\n",
       "    </tr>\n",
       "    <tr>\n",
       "      <th>3</th>\n",
       "      <td>waiting to exhale</td>\n",
       "      <td>wait exhal comedi drama romanc whitney houston...</td>\n",
       "      <td>[519, 4133, 8234, 6340, 7862]</td>\n",
       "    </tr>\n",
       "    <tr>\n",
       "      <th>4</th>\n",
       "      <td>father of the bride part ii</td>\n",
       "      <td>father bride part ii comedi steve martin dian ...</td>\n",
       "      <td>[5130, 15594, 21235, 10764, 20713]</td>\n",
       "    </tr>\n",
       "    <tr>\n",
       "      <th>...</th>\n",
       "      <td>...</td>\n",
       "      <td>...</td>\n",
       "      <td>...</td>\n",
       "    </tr>\n",
       "    <tr>\n",
       "      <th>21803</th>\n",
       "      <td>the sublet</td>\n",
       "      <td>sublet mysteri drama thriller horror tianna no...</td>\n",
       "      <td>[7632, 14641, 16555, 19489, 7688]</td>\n",
       "    </tr>\n",
       "    <tr>\n",
       "      <th>21804</th>\n",
       "      <td>cadet kelly</td>\n",
       "      <td>cadet kelli comedi hilari duff christi carlson...</td>\n",
       "      <td>[20118, 1124, 7661, 21375, 2928]</td>\n",
       "    </tr>\n",
       "    <tr>\n",
       "      <th>21805</th>\n",
       "      <td>pooh's heffalump halloween movie</td>\n",
       "      <td>pooh heffalump halloween movi anim famili jimm...</td>\n",
       "      <td>[7291, 2415, 13753, 10539, 2950]</td>\n",
       "    </tr>\n",
       "    <tr>\n",
       "      <th>21806</th>\n",
       "      <td>mom</td>\n",
       "      <td>mom crime drama thriller sridevi kapoor sajal ...</td>\n",
       "      <td>[15582, 19492, 19862, 18107, 20663]</td>\n",
       "    </tr>\n",
       "    <tr>\n",
       "      <th>21807</th>\n",
       "      <td>robin hood</td>\n",
       "      <td>robin hood drama action romanc patrick bergin ...</td>\n",
       "      <td>[402, 11685, 20384, 2415, 10821]</td>\n",
       "    </tr>\n",
       "  </tbody>\n",
       "</table>\n",
       "<p>21808 rows × 3 columns</p>\n",
       "</div>"
      ],
      "text/plain": [
       "                                  title  \\\n",
       "0                             toy story   \n",
       "1                               jumanji   \n",
       "2                      grumpier old men   \n",
       "3                     waiting to exhale   \n",
       "4           father of the bride part ii   \n",
       "...                                 ...   \n",
       "21803                        the sublet   \n",
       "21804                       cadet kelly   \n",
       "21805  pooh's heffalump halloween movie   \n",
       "21806                               mom   \n",
       "21807                        robin hood   \n",
       "\n",
       "                                                   label  \\\n",
       "0      toy stori anim comedi famili tom hank tim alle...   \n",
       "1      jumanji adventur fantasi famili robin william ...   \n",
       "2      grumpier old men romanc comedi walter matthau ...   \n",
       "3      wait exhal comedi drama romanc whitney houston...   \n",
       "4      father bride part ii comedi steve martin dian ...   \n",
       "...                                                  ...   \n",
       "21803  sublet mysteri drama thriller horror tianna no...   \n",
       "21804  cadet kelli comedi hilari duff christi carlson...   \n",
       "21805  pooh heffalump halloween movi anim famili jimm...   \n",
       "21806  mom crime drama thriller sridevi kapoor sajal ...   \n",
       "21807  robin hood drama action romanc patrick bergin ...   \n",
       "\n",
       "                               index_movie  \n",
       "0        [2285, 10998, 11507, 11250, 6278]  \n",
       "1        [10720, 13024, 7785, 20185, 1472]  \n",
       "2          [2530, 19874, 9685, 3117, 3161]  \n",
       "3            [519, 4133, 8234, 6340, 7862]  \n",
       "4       [5130, 15594, 21235, 10764, 20713]  \n",
       "...                                    ...  \n",
       "21803    [7632, 14641, 16555, 19489, 7688]  \n",
       "21804     [20118, 1124, 7661, 21375, 2928]  \n",
       "21805     [7291, 2415, 13753, 10539, 2950]  \n",
       "21806  [15582, 19492, 19862, 18107, 20663]  \n",
       "21807     [402, 11685, 20384, 2415, 10821]  \n",
       "\n",
       "[21808 rows x 3 columns]"
      ]
     },
     "execution_count": 11,
     "metadata": {},
     "output_type": "execute_result"
    }
   ],
   "source": [
    "df[\"index_movie\"]=df.title.apply(index_movie)\n",
    "df"
   ]
  },
  {
   "attachments": {},
   "cell_type": "markdown",
   "metadata": {},
   "source": [
    "### Exportación del df_movie para la realización del endpoint de ML (función 7)"
   ]
  },
  {
   "cell_type": "code",
   "execution_count": 16,
   "metadata": {},
   "outputs": [],
   "source": [
    "# La columna \"label\" ya no será necesaria\n",
    "df.drop(columns=[\"label\"]).to_csv(\"API_ML_movie.csv\",index=False)"
   ]
  },
  {
   "attachments": {},
   "cell_type": "markdown",
   "metadata": {},
   "source": [
    "---"
   ]
  }
 ],
 "metadata": {
  "kernelspec": {
   "display_name": "Python 3",
   "language": "python",
   "name": "python3"
  },
  "language_info": {
   "codemirror_mode": {
    "name": "ipython",
    "version": 3
   },
   "file_extension": ".py",
   "mimetype": "text/x-python",
   "name": "python",
   "nbconvert_exporter": "python",
   "pygments_lexer": "ipython3",
   "version": "3.9.2"
  },
  "orig_nbformat": 4
 },
 "nbformat": 4,
 "nbformat_minor": 2
}
